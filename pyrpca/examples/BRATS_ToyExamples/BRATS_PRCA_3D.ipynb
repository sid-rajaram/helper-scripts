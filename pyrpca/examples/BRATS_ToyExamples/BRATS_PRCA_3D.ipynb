{
 "metadata": {
  "name": ""
 },
 "nbformat": 3,
 "nbformat_minor": 0,
 "worksheets": [
  {
   "cells": [
    {
     "cell_type": "code",
     "collapsed": false,
     "input": [
      "import numpy as np # Numpy for general purpose processing\n",
      "import SimpleITK as sitk # SimpleITK to load images\n",
      "import sys\n",
      "\n",
      "sys.path.append('../')\n",
      "from core.ialm import recover # Candes et al.\u2019s RPCA approach"
     ],
     "language": "python",
     "metadata": {},
     "outputs": []
    },
    {
     "cell_type": "code",
     "collapsed": false,
     "input": [
      "with open('./FLAIR_FILES.txt') as fid:\n",
      "    im_names = fid.read().splitlines()\n",
      "with open('./GT_FILES.txt') as fid:\n",
      "    gt_names = fid.read().splitlines()"
     ],
     "language": "python",
     "metadata": {},
     "outputs": []
    },
    {
     "cell_type": "code",
     "collapsed": false,
     "input": [
      "assert (len(im_names) > 0)\n",
      "assert (len(gt_names) == len(im_names))\n",
      "# load first image\n",
      "data_folder = '/home/xiaoxiao/work/data/BRATS/BRATS-2/Synthetic_Data/HG'\n",
      "\n",
      "tmp = sitk.ReadImage(data_folder+'/'+im_names[0]) # image in SITK format\n",
      "tmp = sitk.GetArrayFromImage(tmp) # get numpy array\n",
      "z_dim, x_dim, y_dim = tmp.shape # get 3D volume shape\n",
      "print tmp.shape\n",
      "tmp = tmp.reshape(-1) # vectorize"
     ],
     "language": "python",
     "metadata": {},
     "outputs": []
    },
    {
     "cell_type": "code",
     "collapsed": false,
     "input": [
      "T1 = np.zeros((len(tmp), len(im_names)))\n",
      "print T1.shape\n",
      "for i, im_file in enumerate(im_names):\n",
      "    tmp = sitk.ReadImage(data_folder+'/'+im_file)\n",
      "    tmp = sitk.GetArrayFromImage(tmp)\n",
      "    T1[:,i] = tmp.reshape(-1)\n",
      "# read the ground truth\n",
      "\n",
      "\n",
      "GT = np.zeros(T1.shape)\n",
      "for i, gt_file in enumerate(gt_names):\n",
      "    tmp = sitk.ReadImage(data_folder+'/'+gt_file) # image in SITK format\n",
      "    tmp = sitk.GetArrayFromImage(tmp) # get numpy array\n",
      "    GT[:,i] = tmp.reshape(-1) # vectorize"
     ],
     "language": "python",
     "metadata": {},
     "outputs": []
    },
    {
     "cell_type": "code",
     "collapsed": false,
     "input": [
      "im=T1[:,0].reshape((z_dim,x_dim,y_dim))\n",
      "print im.shape\n",
      "slice_nr = 100\n",
      "imshow(im[slice_nr,:,:], plt.cm.gray)\n",
      "plt.title('Original (Pathology) Image')\n"
     ],
     "language": "python",
     "metadata": {},
     "outputs": []
    },
    {
     "cell_type": "code",
     "collapsed": false,
     "input": [
      "im = GT[:,0].reshape((z_dim,x_dim,y_dim))\n",
      "imshow(im[slice_nr,:,:], cm.gray)\n",
      "plt.title('Ground Truth Segmentation')\n"
     ],
     "language": "python",
     "metadata": {},
     "outputs": []
    },
    {
     "cell_type": "code",
     "collapsed": false,
     "input": [
      "selection = [0,1,2,3,4,5,6,7,8,9]\n",
      "num_of_data = len(selection)\n",
      "\n",
      "\n"
     ],
     "language": "python",
     "metadata": {},
     "outputs": []
    },
    {
     "cell_type": "code",
     "collapsed": false,
     "input": [
      "Y = T1[:,selection]\n",
      "fig = plt.figure(figsize=(15,5))\n",
      "for i in range(num_of_data):\n",
      "    fig.add_subplot(np.ceil(num_of_data/5.0),5,i)\n",
      "    im = T1[:,selection[i]].reshape(z_dim,x_dim,y_dim)\n",
      "    implot = imshow(im[slice_nr,:,:])\n",
      "    implot.set_clim(0,2800)"
     ],
     "language": "python",
     "metadata": {},
     "outputs": []
    },
    {
     "cell_type": "code",
     "collapsed": false,
     "input": [
      "print Y.shape"
     ],
     "language": "python",
     "metadata": {},
     "outputs": []
    },
    {
     "cell_type": "code",
     "collapsed": false,
     "input": [
      "gamma = 0.7* sqrt(float(Y.shape[1])/Y.shape[0])\n",
      "print gamma\n",
      "\n",
      "low_rank, sparse, n_iter = recover(Y,gamma)\n",
      "print sparse.shape\n",
      "print low_rank.shape"
     ],
     "language": "python",
     "metadata": {},
     "outputs": []
    },
    {
     "cell_type": "code",
     "collapsed": false,
     "input": [
      "print sparse.shape\n",
      "print low_rank.shape\n",
      "\n",
      "fig = plt.figure(figsize=(15,5))\n",
      "for i in range(num_of_data):\n",
      "    fig.add_subplot(np.ceil(num_of_data/5.0),5,i)\n",
      "    print z_dim\n",
      "    im = sparse[:,i].reshape(z_dim,x_dim,y_dim)\n",
      "    implot = imshow(im[slice_nr,:,:])\n",
      "    plt.title('Sparse Part')\n",
      "    plt.colorbar()\n",
      "    implot.set_clim(0,2800)"
     ],
     "language": "python",
     "metadata": {},
     "outputs": []
    },
    {
     "cell_type": "code",
     "collapsed": false,
     "input": [
      "print low_rank.shape\n",
      "print sparse.shape\n",
      "fig = plt.figure(figsize=(15,5))\n",
      "for i in range(num_of_data):\n",
      "    fig.add_subplot(np.ceil(num_of_data/5.0),5,i)\n",
      "    im = np.abs(low_rank[:,i].reshape((z_dim,x_dim,y_dim)))\n",
      "    implot = imshow(im[slicer_nr,:,:])\n",
      "    plt.title('Low rank Part')\n",
      "    plt.colorbar()\n",
      "    implot.set_clim(0,2800)"
     ],
     "language": "python",
     "metadata": {},
     "outputs": []
    }
   ],
   "metadata": {}
  }
 ]
}